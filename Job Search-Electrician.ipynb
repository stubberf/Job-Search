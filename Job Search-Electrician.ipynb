{
 "metadata": {
  "name": "",
  "signature": "sha256:25f394e6c6d2ce87917f63dd0ef0f9539fd96810d66b30b6635f83d966c57f2b"
 },
 "nbformat": 3,
 "nbformat_minor": 0,
 "worksheets": [
  {
   "cells": [
    {
     "cell_type": "markdown",
     "metadata": {},
     "source": [
      "The code below attempts to find the most important words to place on a resume/Linkend profile by searching the \"requirement\" section of text for many open positions in a related field. In particular this script is being used to find \"Data Science\" positions but in theory could be used for other professions."
     ]
    },
    {
     "cell_type": "heading",
     "level": 3,
     "metadata": {},
     "source": [
      "Search for Jobs"
     ]
    },
    {
     "cell_type": "code",
     "collapsed": false,
     "input": [
      "#This is a class used to strip the HTML tags from text\n",
      "#This code was taken from the webpage below and written by That1Guy (Thanks!)\n",
      "#http://stackoverflow.com/questions/17011732/how-can-i-convert-html-into-text-without-markup-in-python\n",
      "from HTMLParser import HTMLParser\n",
      "\n",
      "class MLStripper(HTMLParser):\n",
      "    def __init__(self):\n",
      "        self.reset()\n",
      "        self.fed = []\n",
      "    def handle_data(self, d):\n",
      "        self.fed.append(d)\n",
      "    def get_data(self):\n",
      "        return ''.join(self.fed)\n",
      "\n",
      "def strip_tags(html):\n",
      "    s = MLStripper()\n",
      "    s.feed(html)\n",
      "    return s.get_data()"
     ],
     "language": "python",
     "metadata": {},
     "outputs": [],
     "prompt_number": 1
    },
    {
     "cell_type": "code",
     "collapsed": false,
     "input": [
      "#Import url and xml elementTree librarys\n",
      "import urllib, urllib2\n",
      "import xml.etree.ElementTree as ET\n",
      "\n",
      "\n",
      "#The keyword to send for search of open positions\n",
      "#************************************************\n",
      "kw = 'electrician Jobs'\n",
      "#kw = 'electrical engineer'\n",
      "#************************************************\n",
      "\n",
      "#The keywords to exclude\n",
      "#************************************************\n",
      "ekw = 'journeyman'\n",
      "#************************************************\n",
      "\n",
      "#CareerBuilders Api Parameters\n",
      "prams = {\n",
      "    'DeveloperKey':'WDHP06X6GXFGVWHVLTX5',\n",
      "    'Keywords':kw,\n",
      "    'PerPage':50,\n",
      "    'ExcludeKeywords':ekw\n",
      "    }\n",
      "#Create and print search url\n",
      "url = 'http://api.careerbuilder.com/v1/jobsearch?' + urllib.urlencode(prams)\n",
      "print url\n",
      "\n",
      "#Open connection to search api and return jobs\n",
      "DID_list = []\n",
      "response = urllib2.urlopen(url)\n",
      "xml = response.read()\n",
      "root = ET.fromstring(xml)\n",
      "results = root.find(u'Results')\n",
      "for job in results.findall(u'JobSearchResult'):\n",
      "    DID_list.append(job.find('DID').text)\n",
      "print DID_list"
     ],
     "language": "python",
     "metadata": {},
     "outputs": [
      {
       "output_type": "stream",
       "stream": "stdout",
       "text": [
        "http://api.careerbuilder.com/v1/jobsearch?Keywords=electrician+Jobs&PerPage=50&ExcludeKeywords=journeyman&DeveloperKey=WDHP06X6GXFGVWHVLTX5\n",
        "['JHR86B7411NP5DS16PK', 'J8S2LZ6XLYBD1DV2805', 'JHR6D36QZL2T5H455XN', 'J3G02Z6SJ279PPTNYPB', 'J3G2CN6DH068VHNPKXL', 'JHV58L5Y82JRXR3L38N', 'J907L66JS35N7J1NX5K', 'J8S0876Q9M3XRG6QVFJ', 'J8S7BQ6X1PTXFVVQ6YQ', 'J8J06N5X19C954Y2N5N', 'JHQ0X65VMT303VKVLFZ', 'J3J2BK6X4YWW1PRRL23', 'J8Q0YP65MF57QCZQP9T', 'JHP3NR6VK0P0RG4RF6W', 'JHM3ZQ6V8FVQ6H7F3C6', 'JHN3TF6SCTJMN4261XW', 'J8F3NL624DQPQ8G6BRY', 'J3G7MF75DHGVZX72B32', 'J3G12L66CZST9P8BGW9', 'JB77PJ6N3LWSBVYQSF3', 'JB70GP7868F8346JVPJ', 'JB73V16GDFFZNXLVX1R', 'J3K4LS75BB6S98GC26B', 'J3H60B68P5RYCKHC59N', 'J3F44W74FN8N4TCMCF0', 'J3G8836M57CGFSGKF28', 'JHS2DG6LT0XWLX6GSR3', 'J907RJ709JPS353HQ0D', 'J8S4RY5Y3M7CBZC4NSQ', 'JHS1G76GKKR7W2S80D9', 'JHQ69R6PJDRRXP3T0MP', 'JHS8F26QRYZBZ7QYD2G', 'J3H0Y26GDCGF4S0DV9J', 'JHT7WP6TT5SV5TQ843Z', 'JB754S6BMQT0VSHJR8P', 'J3F1B46LL56SSRCR3TT', 'JHN49979ND8YQPV1JY0', 'J3K54J64SN57B7Z89MY', 'J8S170600DKQ3KMH8M2', 'JHR2F96XT7G465F0MBF', 'J3L3JW6Q1VWMGJJNLRX', 'J3F52074JT410L4VLPZ', 'JB74HX65W9LYP49X7JF', 'JB70DS6K10WM89GHWQF', 'J8Q03W6L1K3BF7VZ31Z', 'JJY36X6RHJCSX9Y1YRQ', 'JHV7D86Y6LH09TKPQ6L', 'JHP2MH6VG3S8WWJYSRF', 'JHT17L692MKZWTWDPN3', 'JHV2V171PZXLXXYH9GZ']"
       ]
      },
      {
       "output_type": "stream",
       "stream": "stdout",
       "text": [
        "\n"
       ]
      }
     ],
     "prompt_number": 2
    },
    {
     "cell_type": "heading",
     "level": 3,
     "metadata": {},
     "source": [
      "Read the Requirements of Each Job"
     ]
    },
    {
     "cell_type": "code",
     "collapsed": false,
     "input": [
      "#This is a function that will read each jobID(DID) and return the text of \n",
      "#the requirement section.\n",
      "def get_job(did):\n",
      "    #Define the parameters and create url for api\n",
      "    prams = {\n",
      "        'DeveloperKey':'WDHP06X6GXFGVWHVLTX5',\n",
      "        'DID':did\n",
      "        }\n",
      "    url = 'http://api.careerbuilder.com/v1/job?' + urllib.urlencode(prams)\n",
      "\n",
      "    #Read the response\n",
      "    response = urllib2.urlopen(url)\n",
      "    xml = response.read()\n",
      "    html_parser = HTMLParser()\n",
      "    #print html_parser.unescape(xml)\n",
      "\n",
      "    #get requirements\n",
      "    root = ET.fromstring(xml)\n",
      "    requirements = strip_tags(html_parser.unescape(root.find(u'Job').find(u'JobRequirements').text))\n",
      "    #fp = open('C:/Users/Aaren/Documents/Projects/%s-requirements.txt'% prams['DID'], 'w')\n",
      "    #fp.write(requirements.decode(errors='ignore'))\n",
      "    #fp.close()\n",
      "    return requirements\n",
      "\n",
      "#This section will place all of the text of the requirment sections for each\n",
      "#job into one large corpus\n",
      "corpus = []\n",
      "for i in range(len(DID_list)):\n",
      "    corpus.append( get_job(DID_list[i]).strip() )"
     ],
     "language": "python",
     "metadata": {},
     "outputs": [],
     "prompt_number": 3
    },
    {
     "cell_type": "heading",
     "level": 3,
     "metadata": {},
     "source": [
      "Use sklearn to count the words"
     ]
    },
    {
     "cell_type": "code",
     "collapsed": false,
     "input": [
      "#Use Sklearn and Numpy to count the occurances of each word in the corpus\n",
      "from sklearn.feature_extraction.text import CountVectorizer\n",
      "import numpy\n",
      "countVec = CountVectorizer(min_df=1, ngram_range=(1,2), stop_words='english')\n",
      "x = countVec.fit_transform(corpus)\n",
      "#The goal is to find commonly used words/phrases accross the job descriptions. \n",
      "#Therefore multipule occurances of a word are only counted once to avoid one\n",
      "#job description providing too much weight to any word because the author \n",
      "#really loved to use that word.\n",
      "x[x > 1] = 1\n",
      "count = x.sum(axis=0)"
     ],
     "language": "python",
     "metadata": {},
     "outputs": [],
     "prompt_number": 4
    },
    {
     "cell_type": "code",
     "collapsed": false,
     "input": [
      "#Sort the list of words/phrases and list the top 100\n",
      "maxNumDisp = 100\n",
      "zipList = zip(countVec.get_feature_names(), list(numpy.array(count).reshape(-1,)) )\n",
      "sortedList = sorted(zipList, key=lambda x:x[1], reverse=True)\n",
      "print sortedList[:maxNumDisp]"
     ],
     "language": "python",
     "metadata": {},
     "outputs": [
      {
       "output_type": "stream",
       "stream": "stdout",
       "text": [
        "[(u'electrical', 36), (u'experience', 33), (u'work', 33), (u'electrician', 32), (u'required', 28), (u'ability', 27), (u'knowledge', 24), (u'years', 24), (u'able', 23), (u'equipment', 23), (u'high', 23), (u'job', 22), (u'school', 21), (u'skills', 21), (u'industrial', 19), (u'requirements', 19), (u'diploma', 18), (u'high school', 18), (u'repair', 18), (u'wiring', 18), (u'plc', 17), (u'systems', 17), (u'time', 17), (u'environment', 16), (u'equivalent', 16), (u'license', 16), (u'preferred', 16), (u'program', 16), (u'training', 16), (u'troubleshooting', 16), (u'control', 15), (u'including', 15), (u'mechanical', 15), (u'power', 15), (u'read', 15), (u'school diploma', 15), (u'technical', 15), (u'employment', 14), (u'safety', 14), (u'testing', 14), (u'understanding', 14), (u'ability work', 13), (u'communication', 13), (u'company', 13), (u'maintenance', 13), (u'opportunity', 13), (u'production', 13), (u'conduit', 12), (u'considered', 12), (u'employer', 12), (u'include', 12), (u'lift', 12), (u'limited', 12), (u'minimum', 12), (u'schematics', 12), (u'working', 12), (u'apply', 11), (u'benefits', 11), (u'candidates', 11), (u'certification', 11), (u'circuits', 11), (u'diagrams', 11), (u'electronics', 11), (u'excellent', 11), (u'jobs', 11), (u'level', 11), (u'personal', 11), (u'plant', 11), (u'state', 11), (u'test', 11), (u'valid', 11), (u'applicants', 10), (u'bending', 10), (u'competitive', 10), (u'current', 10), (u'degree', 10), (u'drug', 10), (u'electrical wiring', 10), (u'equal', 10), (u'equal opportunity', 10), (u'flexible', 10), (u'functions', 10), (u'interpret', 10), (u'logic', 10), (u'management', 10), (u'manufacturing', 10), (u'nec', 10), (u'offer', 10), (u'opportunity employer', 10), (u'perform', 10), (u'position', 10), (u'qualified', 10), (u'related', 10), (u'service', 10), (u'services', 10), (u'written', 10), (u'year', 10), (u'available', 9), (u'background', 9), (u'business', 9)]\n"
       ]
      }
     ],
     "prompt_number": 5
    },
    {
     "cell_type": "heading",
     "level": 3,
     "metadata": {},
     "source": [
      "Create a WordCloud from the Words"
     ]
    },
    {
     "cell_type": "code",
     "collapsed": false,
     "input": [
      "#For use with the wordcloud create a string of the reated phrases where each\n",
      "#word is repeated based on its count. This is to make sure it has the proper \n",
      "#weight in the wordcloud.\n",
      "repeatedPhrases = [' '.join([term[0]]*term[1]) for term in sortedList[:maxNumDisp]]\n",
      "repeatedPhrases = ' '.join(repeatedPhrases)"
     ],
     "language": "python",
     "metadata": {},
     "outputs": [],
     "prompt_number": 6
    },
    {
     "cell_type": "code",
     "collapsed": false,
     "input": [
      "#This section of code came from https://github.com/amueller/word_cloud\n",
      "#Thanks amueller\n",
      "from os import path\n",
      "import matplotlib.pyplot as plt\n",
      "from wordcloud import WordCloud\n",
      "\n",
      "# Read the whole text.\n",
      "wordcloud = WordCloud().generate(repeatedPhrases)\n",
      "# Open a plot of the generated image.\n",
      "plt.imshow(wordcloud)\n",
      "plt.axis(\"off\")\n",
      "plt.show()"
     ],
     "language": "python",
     "metadata": {},
     "outputs": [],
     "prompt_number": 7
    }
   ],
   "metadata": {}
  }
 ]
}